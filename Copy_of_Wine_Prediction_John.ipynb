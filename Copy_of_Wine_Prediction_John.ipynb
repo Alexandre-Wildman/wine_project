{
  "nbformat": 4,
  "nbformat_minor": 0,
  "metadata": {
    "colab": {
      "name": "Copy of Wine_Prediction_John.ipynb",
      "provenance": [],
      "collapsed_sections": []
    },
    "kernelspec": {
      "name": "python3",
      "display_name": "Python 3"
    }
  },
  "cells": [
    {
      "cell_type": "markdown",
      "metadata": {
        "id": "QzSTa1wrHKDb"
      },
      "source": [
        "Introduction"
      ]
    },
    {
      "cell_type": "markdown",
      "metadata": {
        "id": "vO0yaci5GstD"
      },
      "source": [
        "How do you know if this wine is bad or not?\n",
        "\n",
        "Could it be that you have seen it before and tasted it before?\n",
        "That's the principal of learning!\n",
        "\n",
        "But how do I get a machine to learn if I can't give it wine to drink?\n",
        "\n",
        "Well I give it some data!\n",
        "\n",
        "A computer isn't much of a sommeiller but combined with an LCMS and a snooty Frenchman it gets pretty good results!"
      ]
    },
    {
      "cell_type": "markdown",
      "metadata": {
        "id": "qX-bHEY7Fwwl"
      },
      "source": [
        "![winimages.jpg](data:image/jpeg;base64,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)\n"
      ]
    },
    {
      "cell_type": "markdown",
      "metadata": {
        "id": "FtEJz0-JWg-v"
      },
      "source": [
        "First things first\n",
        "\n",
        "Some things to understand where we are working currently.\n",
        "\n",
        "This is google colab. It is an interactive python file that uses googles cloud based computing to run any of your algorithims online. This is an excellent place to learn python as it already has a lot of modules preinstalled, and can make getting into coding less daunting.\n",
        "Keep in mind google colab is based in linux . "
      ]
    },
    {
      "cell_type": "markdown",
      "metadata": {
        "id": "YHxcLXK2Pmhl"
      },
      "source": [
        "What is the problem statement?\n",
        "\n",
        "You have been hired as a junior food scientist / engineer to help increase the quality of the wine at a large winery.  You know that there are certain compounds in wien that make it taste great. A few of these include the fixed acidity and the volatile acidity,  residual sugar  ( i dislike a sweet wine but some people do! ) , sulphates , % alcohol and so on.  \n",
        "Your manager gives you some data collected from a team of  food scientists that just spent hundreds of hours collecting you some good data. Your then going to take this data and  create a machine learning  algortithim that is going help you predict the quality of the wine and therefore find which key parameters that will help you  improve the wine at this winery!"
      ]
    },
    {
      "cell_type": "markdown",
      "metadata": {
        "id": "ts-D9-P7TF1F"
      },
      "source": [
        "Two datasets were created, using red and white wine samples.\n",
        "  The inputs include objective tests (e.g. PH values) and the output is based on sensory data\n",
        "  (median of at least 3 evaluations made by wine experts). Each expert graded the wine quality \n",
        "  between 0 (very bad) and 10 (very excellent). Several data mining methods were applied to model\n",
        "  these datasets under a regression approach. The support vector machine model achieved the\n",
        "  best results. Several metrics were computed: MAD, confusion matrix for a fixed error tolerance (T),\n",
        "  etc. Also, we plot the relative importances of the input variables (as measured by a sensitivity\n",
        "  analysis procedure).\n",
        "  P. Cortez, A. Cerdeira, F. Almeida, T. Matos and J. Reis. Modeling wine preferences by data mining from physicochemical properties. In Decision Support Systems, Elsevier, 47(4):547-553, 2009."
      ]
    },
    {
      "cell_type": "markdown",
      "metadata": {
        "id": "e-GSKFl4Q0Po"
      },
      "source": [
        "1) Understand what kind of problem you have from a machine learning perspective.\n",
        "2)  This tutorial will focus on supervised learning.\n",
        "\n",
        "Supervised Learning \n",
        "Models are fit on training data comprised of inputs and outputs and used to make predictions on test sets where only the inputs are provided and the outputs from the model are compared to the withheld target variables and used to estimate the skill of the model.\n",
        "In a  few words: you are given training data and you are asked to predict some output data.\n",
        "This can be further broken down into\n",
        "\n",
        "Classification: Supervised learning problem that involves predicting a class label.\n",
        "Regression: Supervised learning problem that involves predicting a numerical label.\n"
      ]
    },
    {
      "cell_type": "markdown",
      "metadata": {
        "id": "C2Lwk2FbUirh"
      },
      "source": [
        "------------------------------------------------------------------\n",
        "\n"
      ]
    },
    {
      "cell_type": "markdown",
      "metadata": {
        "id": "hhaGwSlsUpEB"
      },
      "source": [
        "Steps to do\n",
        "\n",
        "1) Understand what the data looks like and what it could mean.  \n",
        "2) Pre process the data so you can load into into python and make it useabel & readable to your algorithim.\n",
        "\n",
        "3) Need to take a section of your data and split into   Testing data and Training datasets.\n",
        "\n",
        "training set—a subset to train a model.\n",
        "test set—a subset to test the trained model.\n",
        "Make sure that your test set meets the following two conditions:\n",
        "\n",
        "Is large enough to yield statistically meaningful results.\n",
        "Is representative of the data set as a whole. In other words, don't pick a test set with different characteristics than the training set.  Key thing.  Never train on test data. If you are seeing surprisingly good results on your evaluation metrics, it might be a sign that you are accidentally training on the test set.\n",
        "\n",
        "\n",
        "4) Choose a model that works well with your data and what you want to achieve.   In this case we will be using a random forest model.\n",
        "\n",
        "5) Train the random forest model.\n",
        "\n",
        "6) Evaluate on your test data\n",
        "\n",
        "7) You now havea trained random forest model\n",
        "\n",
        "8) GIve your  algorithim some new data , the test data, and see what it predicts!\n"
      ]
    },
    {
      "cell_type": "markdown",
      "metadata": {
        "id": "xHK0t1EdFwA7"
      },
      "source": [
        ""
      ]
    },
    {
      "cell_type": "code",
      "metadata": {
        "id": "7o0v_EoI8y6R"
      },
      "source": [
        "#Quick coding reminder\n",
        "\n",
        "\n",
        "#1.4  float\n",
        "\n",
        "#1  integer\n",
        "\n",
        "#\"yeet\" string\n",
        "\n",
        "#true/ false  boolean\n",
        "\n",
        "#for number  in numbers\n",
        "# for <iterator> in  <group of items>\n",
        "\n",
        "#while something happens do something\n",
        "\n",
        "#oof =  3+5  , oof is a integer variable\n",
        "\n",
        "#   .  calls a function\n",
        "# example     yeet.enlargen()    calls the enlargen function on yeet   , and i nthe brackets there are some input parameters"
      ],
      "execution_count": null,
      "outputs": []
    },
    {
      "cell_type": "markdown",
      "metadata": {
        "id": "uBHsHWmumNKn"
      },
      "source": [
        "Importing the Dependencies needed for the code"
      ]
    },
    {
      "cell_type": "code",
      "metadata": {
        "id": "6mXdf5RGkzlk"
      },
      "source": [
        "import numpy as np  #this is used for a lot of mathematics, needed for numpy arrays\n",
        "import pandas as pd  #this is for creating pandas dataframes, important for processing data,  # for a dataframe imagien an excel sheet in your code instead of excel\n",
        "import matplotlib.pyplot as plt #for plots  ( plt is just to make it shorthand, computer scientists are lazy)\n",
        "import seaborn as sns #really freaking nice graphs\n",
        "from sklearn.model_selection import train_test_split #this helps you split the dataset into train and test VERY useful function\n",
        "from sklearn.ensemble import RandomForestClassifier #we are doing random forest classification, so lets not reinvent the wheel and just import a function\n",
        "from sklearn.metrics import accuracy_score  #its important to get a visible score of how well your model does"
      ],
      "execution_count": null,
      "outputs": []
    },
    {
      "cell_type": "markdown",
      "metadata": {
        "id": "EeJ8YCxpbwEB"
      },
      "source": [
        ""
      ]
    },
    {
      "cell_type": "markdown",
      "metadata": {
        "id": "bURpf8bkm7-M"
      },
      "source": [
        "Working with the data  and a bit of preprocessing!"
      ]
    },
    {
      "cell_type": "code",
      "metadata": {
        "id": "cWKcl9eNm6F_"
      },
      "source": [
        "# loading the dataset to a Pandas DataFrame\n",
        "wine_dataset = pd.read_csv('/content/JWwineQualityWhites.csv') #this is done by clicking on the copy path on the data you uploaded\n",
        "#the pd.read helps you read the csv file.  remember computers are dumb and must be told exactly what to do\n"
      ],
      "execution_count": null,
      "outputs": []
    },
    {
      "cell_type": "code",
      "metadata": {
        "colab": {
          "base_uri": "https://localhost:8080/"
        },
        "id": "g_My291znM6F",
        "outputId": "c3e357c7-3df3-4b22-85f1-ebda50416407"
      },
      "source": [
        "# number of rows & columns in the dataset\n",
        "wine_dataset.shape #shape function gives the number of rows and columns, these columns are the chemical characteristics , we can call them features in computer science"
      ],
      "execution_count": null,
      "outputs": [
        {
          "output_type": "execute_result",
          "data": {
            "text/plain": [
              "(4898, 13)"
            ]
          },
          "metadata": {
            "tags": []
          },
          "execution_count": 19
        }
      ]
    },
    {
      "cell_type": "code",
      "metadata": {
        "colab": {
          "base_uri": "https://localhost:8080/",
          "height": 204
        },
        "id": "gwMuYfkznSrt",
        "outputId": "902a4e1c-740a-4a04-f3b4-57f465501632"
      },
      "source": [
        "# first 5 rows of the dataset\n",
        "wine_dataset.head() #head just calls the first 5 rows and displays them"
      ],
      "execution_count": null,
      "outputs": [
        {
          "output_type": "execute_result",
          "data": {
            "text/html": [
              "<div>\n",
              "<style scoped>\n",
              "    .dataframe tbody tr th:only-of-type {\n",
              "        vertical-align: middle;\n",
              "    }\n",
              "\n",
              "    .dataframe tbody tr th {\n",
              "        vertical-align: top;\n",
              "    }\n",
              "\n",
              "    .dataframe thead th {\n",
              "        text-align: right;\n",
              "    }\n",
              "</style>\n",
              "<table border=\"1\" class=\"dataframe\">\n",
              "  <thead>\n",
              "    <tr style=\"text-align: right;\">\n",
              "      <th></th>\n",
              "      <th>Unnamed: 0</th>\n",
              "      <th>fixed.acidity</th>\n",
              "      <th>volatile.acidity</th>\n",
              "      <th>citric.acid</th>\n",
              "      <th>residual.sugar</th>\n",
              "      <th>chlorides</th>\n",
              "      <th>free.sulfur.dioxide</th>\n",
              "      <th>total.sulfur.dioxide</th>\n",
              "      <th>density</th>\n",
              "      <th>pH</th>\n",
              "      <th>sulphates</th>\n",
              "      <th>alcohol</th>\n",
              "      <th>quality</th>\n",
              "    </tr>\n",
              "  </thead>\n",
              "  <tbody>\n",
              "    <tr>\n",
              "      <th>0</th>\n",
              "      <td>1</td>\n",
              "      <td>7.0</td>\n",
              "      <td>0.27</td>\n",
              "      <td>0.36</td>\n",
              "      <td>20.7</td>\n",
              "      <td>0.045</td>\n",
              "      <td>45.0</td>\n",
              "      <td>170.0</td>\n",
              "      <td>1.0010</td>\n",
              "      <td>3.00</td>\n",
              "      <td>0.45</td>\n",
              "      <td>8.8</td>\n",
              "      <td>6</td>\n",
              "    </tr>\n",
              "    <tr>\n",
              "      <th>1</th>\n",
              "      <td>2</td>\n",
              "      <td>6.3</td>\n",
              "      <td>0.30</td>\n",
              "      <td>0.34</td>\n",
              "      <td>1.6</td>\n",
              "      <td>0.049</td>\n",
              "      <td>14.0</td>\n",
              "      <td>132.0</td>\n",
              "      <td>0.9940</td>\n",
              "      <td>3.30</td>\n",
              "      <td>0.49</td>\n",
              "      <td>9.5</td>\n",
              "      <td>6</td>\n",
              "    </tr>\n",
              "    <tr>\n",
              "      <th>2</th>\n",
              "      <td>3</td>\n",
              "      <td>8.1</td>\n",
              "      <td>NaN</td>\n",
              "      <td>0.40</td>\n",
              "      <td>6.9</td>\n",
              "      <td>0.050</td>\n",
              "      <td>30.0</td>\n",
              "      <td>97.0</td>\n",
              "      <td>0.9951</td>\n",
              "      <td>3.26</td>\n",
              "      <td>0.44</td>\n",
              "      <td>10.1</td>\n",
              "      <td>6</td>\n",
              "    </tr>\n",
              "    <tr>\n",
              "      <th>3</th>\n",
              "      <td>4</td>\n",
              "      <td>7.2</td>\n",
              "      <td>0.23</td>\n",
              "      <td>0.32</td>\n",
              "      <td>8.5</td>\n",
              "      <td>0.058</td>\n",
              "      <td>47.0</td>\n",
              "      <td>186.0</td>\n",
              "      <td>0.9956</td>\n",
              "      <td>3.19</td>\n",
              "      <td>0.40</td>\n",
              "      <td>9.9</td>\n",
              "      <td>6</td>\n",
              "    </tr>\n",
              "    <tr>\n",
              "      <th>4</th>\n",
              "      <td>5</td>\n",
              "      <td>7.2</td>\n",
              "      <td>0.23</td>\n",
              "      <td>0.32</td>\n",
              "      <td>8.5</td>\n",
              "      <td>0.058</td>\n",
              "      <td>47.0</td>\n",
              "      <td>186.0</td>\n",
              "      <td>0.9956</td>\n",
              "      <td>3.19</td>\n",
              "      <td>0.40</td>\n",
              "      <td>9.9</td>\n",
              "      <td>6</td>\n",
              "    </tr>\n",
              "  </tbody>\n",
              "</table>\n",
              "</div>"
            ],
            "text/plain": [
              "   Unnamed: 0  fixed.acidity  volatile.acidity  ...  sulphates  alcohol  quality\n",
              "0           1            7.0              0.27  ...       0.45      8.8        6\n",
              "1           2            6.3              0.30  ...       0.49      9.5        6\n",
              "2           3            8.1               NaN  ...       0.44     10.1        6\n",
              "3           4            7.2              0.23  ...       0.40      9.9        6\n",
              "4           5            7.2              0.23  ...       0.40      9.9        6\n",
              "\n",
              "[5 rows x 13 columns]"
            ]
          },
          "metadata": {
            "tags": []
          },
          "execution_count": 20
        }
      ]
    },
    {
      "cell_type": "code",
      "metadata": {
        "id": "J_LdYthleeUC"
      },
      "source": [
        "wine_dataset=wine_dataset.drop(['Unnamed: 0'], axis=1) # so lets say we want to get rid of that first column because it may not be useful for us\n",
        "#the  .drop function drops or deletes the desired colum, axis is dropping at the 1st index of the columns"
      ],
      "execution_count": null,
      "outputs": []
    },
    {
      "cell_type": "code",
      "metadata": {
        "colab": {
          "base_uri": "https://localhost:8080/",
          "height": 204
        },
        "id": "Z02ME6j8eyxJ",
        "outputId": "0457888d-c262-48de-adf6-228d8914f9fc"
      },
      "source": [
        "wine_dataset.head()"
      ],
      "execution_count": null,
      "outputs": [
        {
          "output_type": "execute_result",
          "data": {
            "text/html": [
              "<div>\n",
              "<style scoped>\n",
              "    .dataframe tbody tr th:only-of-type {\n",
              "        vertical-align: middle;\n",
              "    }\n",
              "\n",
              "    .dataframe tbody tr th {\n",
              "        vertical-align: top;\n",
              "    }\n",
              "\n",
              "    .dataframe thead th {\n",
              "        text-align: right;\n",
              "    }\n",
              "</style>\n",
              "<table border=\"1\" class=\"dataframe\">\n",
              "  <thead>\n",
              "    <tr style=\"text-align: right;\">\n",
              "      <th></th>\n",
              "      <th>fixed.acidity</th>\n",
              "      <th>volatile.acidity</th>\n",
              "      <th>citric.acid</th>\n",
              "      <th>residual.sugar</th>\n",
              "      <th>chlorides</th>\n",
              "      <th>free.sulfur.dioxide</th>\n",
              "      <th>total.sulfur.dioxide</th>\n",
              "      <th>density</th>\n",
              "      <th>pH</th>\n",
              "      <th>sulphates</th>\n",
              "      <th>alcohol</th>\n",
              "      <th>quality</th>\n",
              "    </tr>\n",
              "  </thead>\n",
              "  <tbody>\n",
              "    <tr>\n",
              "      <th>0</th>\n",
              "      <td>7.0</td>\n",
              "      <td>0.27</td>\n",
              "      <td>0.36</td>\n",
              "      <td>20.7</td>\n",
              "      <td>0.045</td>\n",
              "      <td>45.0</td>\n",
              "      <td>170.0</td>\n",
              "      <td>1.0010</td>\n",
              "      <td>3.00</td>\n",
              "      <td>0.45</td>\n",
              "      <td>8.8</td>\n",
              "      <td>6</td>\n",
              "    </tr>\n",
              "    <tr>\n",
              "      <th>1</th>\n",
              "      <td>6.3</td>\n",
              "      <td>0.30</td>\n",
              "      <td>0.34</td>\n",
              "      <td>1.6</td>\n",
              "      <td>0.049</td>\n",
              "      <td>14.0</td>\n",
              "      <td>132.0</td>\n",
              "      <td>0.9940</td>\n",
              "      <td>3.30</td>\n",
              "      <td>0.49</td>\n",
              "      <td>9.5</td>\n",
              "      <td>6</td>\n",
              "    </tr>\n",
              "    <tr>\n",
              "      <th>2</th>\n",
              "      <td>8.1</td>\n",
              "      <td>NaN</td>\n",
              "      <td>0.40</td>\n",
              "      <td>6.9</td>\n",
              "      <td>0.050</td>\n",
              "      <td>30.0</td>\n",
              "      <td>97.0</td>\n",
              "      <td>0.9951</td>\n",
              "      <td>3.26</td>\n",
              "      <td>0.44</td>\n",
              "      <td>10.1</td>\n",
              "      <td>6</td>\n",
              "    </tr>\n",
              "    <tr>\n",
              "      <th>3</th>\n",
              "      <td>7.2</td>\n",
              "      <td>0.23</td>\n",
              "      <td>0.32</td>\n",
              "      <td>8.5</td>\n",
              "      <td>0.058</td>\n",
              "      <td>47.0</td>\n",
              "      <td>186.0</td>\n",
              "      <td>0.9956</td>\n",
              "      <td>3.19</td>\n",
              "      <td>0.40</td>\n",
              "      <td>9.9</td>\n",
              "      <td>6</td>\n",
              "    </tr>\n",
              "    <tr>\n",
              "      <th>4</th>\n",
              "      <td>7.2</td>\n",
              "      <td>0.23</td>\n",
              "      <td>0.32</td>\n",
              "      <td>8.5</td>\n",
              "      <td>0.058</td>\n",
              "      <td>47.0</td>\n",
              "      <td>186.0</td>\n",
              "      <td>0.9956</td>\n",
              "      <td>3.19</td>\n",
              "      <td>0.40</td>\n",
              "      <td>9.9</td>\n",
              "      <td>6</td>\n",
              "    </tr>\n",
              "  </tbody>\n",
              "</table>\n",
              "</div>"
            ],
            "text/plain": [
              "   fixed.acidity  volatile.acidity  citric.acid  ...  sulphates  alcohol  quality\n",
              "0            7.0              0.27         0.36  ...       0.45      8.8        6\n",
              "1            6.3              0.30         0.34  ...       0.49      9.5        6\n",
              "2            8.1               NaN         0.40  ...       0.44     10.1        6\n",
              "3            7.2              0.23         0.32  ...       0.40      9.9        6\n",
              "4            7.2              0.23         0.32  ...       0.40      9.9        6\n",
              "\n",
              "[5 rows x 12 columns]"
            ]
          },
          "metadata": {
            "tags": []
          },
          "execution_count": 22
        }
      ]
    },
    {
      "cell_type": "code",
      "metadata": {
        "colab": {
          "base_uri": "https://localhost:8080/"
        },
        "id": "sm4Tve1gncni",
        "outputId": "1cb60725-e1ab-4624-d259-f2e49e7300f6"
      },
      "source": [
        "# checking for any missing values\n",
        "wine_dataset.isnull().sum()  #this is important to check if you need to do more preprocessing on the datata\n",
        "#if any values were missing you would need to replace them / or delete them. replacing them could be with the mean value of the other numbers.\n",
        "# in this case we will drop a row.\n"
      ],
      "execution_count": null,
      "outputs": [
        {
          "output_type": "execute_result",
          "data": {
            "text/plain": [
              "fixed.acidity           0\n",
              "volatile.acidity        2\n",
              "citric.acid             0\n",
              "residual.sugar          0\n",
              "chlorides               0\n",
              "free.sulfur.dioxide     0\n",
              "total.sulfur.dioxide    0\n",
              "density                 0\n",
              "pH                      0\n",
              "sulphates               0\n",
              "alcohol                 0\n",
              "quality                 0\n",
              "dtype: int64"
            ]
          },
          "metadata": {
            "tags": []
          },
          "execution_count": 23
        }
      ]
    },
    {
      "cell_type": "code",
      "metadata": {
        "id": "D_ufaM0DhdRN"
      },
      "source": [
        "#remove the rows with missing values\n",
        "\n",
        "wine_dataset = wine_dataset.dropna()  #this removes any rows with missing values,  those darn food scientists need to step up there game!\n"
      ],
      "execution_count": null,
      "outputs": []
    },
    {
      "cell_type": "code",
      "metadata": {
        "colab": {
          "base_uri": "https://localhost:8080/"
        },
        "id": "n8AtqZFSid7e",
        "outputId": "e92c94c4-3aea-4541-ba9d-aa65838d4424"
      },
      "source": [
        "wine_dataset.shape\n",
        "#we replaced the old wine dataset with the fixed up one, and now we go and check if the two rows with missing vlaues were removed\n",
        "#we see that they went from 4898 to 4896 , wow thats awesome!"
      ],
      "execution_count": null,
      "outputs": [
        {
          "output_type": "execute_result",
          "data": {
            "text/plain": [
              "(4896, 12)"
            ]
          },
          "metadata": {
            "tags": []
          },
          "execution_count": 25
        }
      ]
    },
    {
      "cell_type": "markdown",
      "metadata": {
        "id": "7-MFdFXsoAto"
      },
      "source": [
        "Analysizing the Data and Visulaizing it !"
      ]
    },
    {
      "cell_type": "code",
      "metadata": {
        "colab": {
          "base_uri": "https://localhost:8080/",
          "height": 297
        },
        "id": "Y7o-Nl_EnyIE",
        "outputId": "0518113b-456b-4bc2-88cc-f58e530884c9"
      },
      "source": [
        "# statistical measures of the dataset\n",
        "wine_dataset.describe()\n",
        "#gives us alot of useful statistical data about our dataset\n",
        "\n",
        "#wow take a look at the pH of that one white wine,  3.188 , also notice hwo the white wines at this winery dont go past 10.5 % , \n",
        "# I think they are missing out,   17 % is the only way to go!\n",
        "#50% of the values are less than 6.3 for there fixed acidity (percentiles)\n",
        "\n",
        "# you could also use this function to see if a value is missing\n",
        "\n",
        "#this whole process is called  Exploratory Data Analysis\n",
        "#want to have a human look to see if oyu can reginize any patterns\n"
      ],
      "execution_count": null,
      "outputs": [
        {
          "output_type": "execute_result",
          "data": {
            "text/html": [
              "<div>\n",
              "<style scoped>\n",
              "    .dataframe tbody tr th:only-of-type {\n",
              "        vertical-align: middle;\n",
              "    }\n",
              "\n",
              "    .dataframe tbody tr th {\n",
              "        vertical-align: top;\n",
              "    }\n",
              "\n",
              "    .dataframe thead th {\n",
              "        text-align: right;\n",
              "    }\n",
              "</style>\n",
              "<table border=\"1\" class=\"dataframe\">\n",
              "  <thead>\n",
              "    <tr style=\"text-align: right;\">\n",
              "      <th></th>\n",
              "      <th>fixed.acidity</th>\n",
              "      <th>volatile.acidity</th>\n",
              "      <th>citric.acid</th>\n",
              "      <th>residual.sugar</th>\n",
              "      <th>chlorides</th>\n",
              "      <th>free.sulfur.dioxide</th>\n",
              "      <th>total.sulfur.dioxide</th>\n",
              "      <th>density</th>\n",
              "      <th>pH</th>\n",
              "      <th>sulphates</th>\n",
              "      <th>alcohol</th>\n",
              "      <th>quality</th>\n",
              "    </tr>\n",
              "  </thead>\n",
              "  <tbody>\n",
              "    <tr>\n",
              "      <th>count</th>\n",
              "      <td>4896.000000</td>\n",
              "      <td>4896.000000</td>\n",
              "      <td>4896.000000</td>\n",
              "      <td>4896.000000</td>\n",
              "      <td>4896.000000</td>\n",
              "      <td>4896.000000</td>\n",
              "      <td>4896.000000</td>\n",
              "      <td>4896.000000</td>\n",
              "      <td>4896.000000</td>\n",
              "      <td>4896.000000</td>\n",
              "      <td>4896.000000</td>\n",
              "      <td>4896.000000</td>\n",
              "    </tr>\n",
              "    <tr>\n",
              "      <th>mean</th>\n",
              "      <td>6.854320</td>\n",
              "      <td>0.278261</td>\n",
              "      <td>0.334171</td>\n",
              "      <td>6.392371</td>\n",
              "      <td>0.045773</td>\n",
              "      <td>35.313113</td>\n",
              "      <td>138.382047</td>\n",
              "      <td>0.994028</td>\n",
              "      <td>3.188254</td>\n",
              "      <td>0.489828</td>\n",
              "      <td>10.514293</td>\n",
              "      <td>5.878064</td>\n",
              "    </tr>\n",
              "    <tr>\n",
              "      <th>std</th>\n",
              "      <td>0.843721</td>\n",
              "      <td>0.100805</td>\n",
              "      <td>0.121040</td>\n",
              "      <td>5.072546</td>\n",
              "      <td>0.021852</td>\n",
              "      <td>17.008203</td>\n",
              "      <td>42.492980</td>\n",
              "      <td>0.002991</td>\n",
              "      <td>0.151028</td>\n",
              "      <td>0.114129</td>\n",
              "      <td>1.230851</td>\n",
              "      <td>0.885729</td>\n",
              "    </tr>\n",
              "    <tr>\n",
              "      <th>min</th>\n",
              "      <td>3.800000</td>\n",
              "      <td>0.080000</td>\n",
              "      <td>0.000000</td>\n",
              "      <td>0.600000</td>\n",
              "      <td>0.009000</td>\n",
              "      <td>2.000000</td>\n",
              "      <td>9.000000</td>\n",
              "      <td>0.987110</td>\n",
              "      <td>2.720000</td>\n",
              "      <td>0.220000</td>\n",
              "      <td>8.000000</td>\n",
              "      <td>3.000000</td>\n",
              "    </tr>\n",
              "    <tr>\n",
              "      <th>25%</th>\n",
              "      <td>6.300000</td>\n",
              "      <td>0.210000</td>\n",
              "      <td>0.270000</td>\n",
              "      <td>1.700000</td>\n",
              "      <td>0.036000</td>\n",
              "      <td>23.000000</td>\n",
              "      <td>108.000000</td>\n",
              "      <td>0.991720</td>\n",
              "      <td>3.090000</td>\n",
              "      <td>0.410000</td>\n",
              "      <td>9.500000</td>\n",
              "      <td>5.000000</td>\n",
              "    </tr>\n",
              "    <tr>\n",
              "      <th>50%</th>\n",
              "      <td>6.800000</td>\n",
              "      <td>0.260000</td>\n",
              "      <td>0.320000</td>\n",
              "      <td>5.200000</td>\n",
              "      <td>0.043000</td>\n",
              "      <td>34.000000</td>\n",
              "      <td>134.000000</td>\n",
              "      <td>0.993740</td>\n",
              "      <td>3.180000</td>\n",
              "      <td>0.470000</td>\n",
              "      <td>10.400000</td>\n",
              "      <td>6.000000</td>\n",
              "    </tr>\n",
              "    <tr>\n",
              "      <th>75%</th>\n",
              "      <td>7.300000</td>\n",
              "      <td>0.320000</td>\n",
              "      <td>0.390000</td>\n",
              "      <td>9.900000</td>\n",
              "      <td>0.050000</td>\n",
              "      <td>46.000000</td>\n",
              "      <td>167.000000</td>\n",
              "      <td>0.996100</td>\n",
              "      <td>3.280000</td>\n",
              "      <td>0.550000</td>\n",
              "      <td>11.400000</td>\n",
              "      <td>6.000000</td>\n",
              "    </tr>\n",
              "    <tr>\n",
              "      <th>max</th>\n",
              "      <td>14.200000</td>\n",
              "      <td>1.100000</td>\n",
              "      <td>1.660000</td>\n",
              "      <td>65.800000</td>\n",
              "      <td>0.346000</td>\n",
              "      <td>289.000000</td>\n",
              "      <td>440.000000</td>\n",
              "      <td>1.038980</td>\n",
              "      <td>3.820000</td>\n",
              "      <td>1.080000</td>\n",
              "      <td>14.200000</td>\n",
              "      <td>9.000000</td>\n",
              "    </tr>\n",
              "  </tbody>\n",
              "</table>\n",
              "</div>"
            ],
            "text/plain": [
              "       fixed.acidity  volatile.acidity  ...      alcohol      quality\n",
              "count    4896.000000       4896.000000  ...  4896.000000  4896.000000\n",
              "mean        6.854320          0.278261  ...    10.514293     5.878064\n",
              "std         0.843721          0.100805  ...     1.230851     0.885729\n",
              "min         3.800000          0.080000  ...     8.000000     3.000000\n",
              "25%         6.300000          0.210000  ...     9.500000     5.000000\n",
              "50%         6.800000          0.260000  ...    10.400000     6.000000\n",
              "75%         7.300000          0.320000  ...    11.400000     6.000000\n",
              "max        14.200000          1.100000  ...    14.200000     9.000000\n",
              "\n",
              "[8 rows x 12 columns]"
            ]
          },
          "metadata": {
            "tags": []
          },
          "execution_count": 26
        }
      ]
    },
    {
      "cell_type": "code",
      "metadata": {
        "colab": {
          "base_uri": "https://localhost:8080/",
          "height": 400
        },
        "id": "B6mep7GEoLNp",
        "outputId": "7020c5de-756f-45d0-da1f-8aaeab470c2f"
      },
      "source": [
        "# number of values for each quality\n",
        "sns.catplot(x='quality', data = wine_dataset, kind = 'count') \n",
        "#count is the number of features present\n",
        "#here the quality feature is selected because that is what we care most about in this problem\n",
        "\n",
        "\n",
        "#Question:  What kind of distribution does this look like ?"
      ],
      "execution_count": null,
      "outputs": [
        {
          "output_type": "execute_result",
          "data": {
            "text/plain": [
              "<seaborn.axisgrid.FacetGrid at 0x7f6f20457410>"
            ]
          },
          "metadata": {
            "tags": []
          },
          "execution_count": 29
        },
        {
          "output_type": "display_data",
          "data": {
            "image/png": "[encoded data removed]",
            "text/plain": [
              "<Figure size 360x360 with 1 Axes>"
            ]
          },
          "metadata": {
            "tags": [],
            "needs_background": "light"
          }
        }
      ]
    },
    {
      "cell_type": "code",
      "metadata": {
        "colab": {
          "base_uri": "https://localhost:8080/",
          "height": 408
        },
        "id": "RZ1Hw9kcm6Ax",
        "outputId": "736c6ed0-c31c-4699-f62a-61b541d6265c"
      },
      "source": [
        "# chloride left in wine  vs Quality\n",
        "plot = plt.figure(figsize=(8,6))\n",
        "sns.barplot(x='quality', y = 'chlorides', data = wine_dataset)\n",
        "\n",
        "\n",
        "#Chloride concentration in the wine is influenced by terroir and its highest levels are found in wines coming from countries where irrigation is carried out using salty water or in areas with brackish terrains. \n",
        "#Australia and Argentina are the countries whose wines present the highest levels of chlorides.\n",
        "\n",
        "\n"
      ],
      "execution_count": null,
      "outputs": [
        {
          "output_type": "execute_result",
          "data": {
            "text/plain": [
              "<matplotlib.axes._subplots.AxesSubplot at 0x7f6f20395250>"
            ]
          },
          "metadata": {
            "tags": []
          },
          "execution_count": 30
        },
        {
          "output_type": "display_data",
          "data": {
            "image/png": "[encoded data removed]",
            "text/plain": [
              "<Figure size 576x432 with 1 Axes>"
            ]
          },
          "metadata": {
            "tags": [],
            "needs_background": "light"
          }
        }
      ]
    },
    {
      "cell_type": "code",
      "metadata": {
        "colab": {
          "base_uri": "https://localhost:8080/",
          "height": 405
        },
        "id": "rhptALqskcV-",
        "outputId": "fb082ca7-e8e5-4876-dcb1-0ad0868d7452"
      },
      "source": [
        "# alcohol vs Quality\n",
        "plot = plt.figure(figsize=(8,6))\n",
        "sns.barplot(x='quality', y = 'alcohol', data = wine_dataset)"
      ],
      "execution_count": null,
      "outputs": [
        {
          "output_type": "execute_result",
          "data": {
            "text/plain": [
              "<matplotlib.axes._subplots.AxesSubplot at 0x7f6f208e6810>"
            ]
          },
          "metadata": {
            "tags": []
          },
          "execution_count": 31
        },
        {
          "output_type": "display_data",
          "data": {
            "image/png": "[encoded data removed]",
            "text/plain": [
              "<Figure size 576x432 with 1 Axes>"
            ]
          },
          "metadata": {
            "tags": [],
            "needs_background": "light"
          }
        }
      ]
    },
    {
      "cell_type": "code",
      "metadata": {
        "colab": {
          "base_uri": "https://localhost:8080/",
          "height": 351
        },
        "id": "COy4yhieo0v7",
        "outputId": "f6fa646c-0bbb-4e34-acd8-0b736af03566"
      },
      "source": [
        "# volatile acidity vs Quality\n",
        "plot = plt.figure(figsize=(5,5))\n",
        "sns.barplot(x='quality', y = 'volatile.acidity', data = wine_dataset)\n",
        "\n",
        "#reported as a comparison to acetic acid \n",
        "\n",
        "\n",
        "#Question eyeballing this graph what could you say about the relationship between acidity and quality"
      ],
      "execution_count": null,
      "outputs": [
        {
          "output_type": "execute_result",
          "data": {
            "text/plain": [
              "<matplotlib.axes._subplots.AxesSubplot at 0x7f6f203133d0>"
            ]
          },
          "metadata": {
            "tags": []
          },
          "execution_count": 32
        },
        {
          "output_type": "display_data",
          "data": {
            "image/png": "[encoded data removed]",
            "text/plain": [
              "<Figure size 360x360 with 1 Axes>"
            ]
          },
          "metadata": {
            "tags": [],
            "needs_background": "light"
          }
        }
      ]
    },
    {
      "cell_type": "code",
      "metadata": {
        "colab": {
          "base_uri": "https://localhost:8080/",
          "height": 351
        },
        "id": "C3KRFO91phMV",
        "outputId": "a873d0eb-c8ec-489b-eb4b-407627e1b100"
      },
      "source": [
        "# citric acid vs Quality\n",
        "plot = plt.figure(figsize=(5,5))\n",
        "sns.barplot(x='quality', y = 'citric.acid', data = wine_dataset)\n",
        "\n",
        "#What can you infer from this graph"
      ],
      "execution_count": null,
      "outputs": [
        {
          "output_type": "execute_result",
          "data": {
            "text/plain": [
              "<matplotlib.axes._subplots.AxesSubplot at 0x7f6f202bd2d0>"
            ]
          },
          "metadata": {
            "tags": []
          },
          "execution_count": 33
        },
        {
          "output_type": "display_data",
          "data": {
            "image/png": "[encoded data removed]",
            "text/plain": [
              "<Figure size 360x360 with 1 Axes>"
            ]
          },
          "metadata": {
            "tags": [],
            "needs_background": "light"
          }
        }
      ]
    },
    {
      "cell_type": "markdown",
      "metadata": {
        "id": "jguNai1nqUhZ"
      },
      "source": [
        "Correlation"
      ]
    },
    {
      "cell_type": "markdown",
      "metadata": {
        "id": "xPj4k63cqcOU"
      },
      "source": [
        "1. Positive Correlation\n",
        "2. Negative Correlation"
      ]
    },
    {
      "cell_type": "code",
      "metadata": {
        "id": "9uEI6JRkqAvA"
      },
      "source": [
        "correlation = wine_dataset.corr()"
      ],
      "execution_count": null,
      "outputs": []
    },
    {
      "cell_type": "code",
      "metadata": {
        "colab": {
          "base_uri": "https://localhost:8080/",
          "height": 895
        },
        "id": "6-wxjoy8qbBG",
        "outputId": "1faebd55-f114-4f13-ec8f-b0906ff4da4b"
      },
      "source": [
        "# constructing a heatmap to understand the correlation between the columns\n",
        "plt.figure(figsize=(15,15))\n",
        "sns.heatmap(correlation, cbar=True, square=True, fmt = '.1f', annot = True, annot_kws={'size':10}, cmap = 'Reds')\n",
        "\n",
        "#correlation function  finds the correlation values\n",
        "#cbar gives the legend\n",
        "#square tells you its square\n",
        "# .1f gives 1 floating point\n",
        "#cannot gives the annotaions or legend\n",
        "\n",
        "#Question what can you say about the features that correlate with Quality"
      ],
      "execution_count": null,
      "outputs": [
        {
          "output_type": "execute_result",
          "data": {
            "text/plain": [
              "<matplotlib.axes._subplots.AxesSubplot at 0x7f6f29146f10>"
            ]
          },
          "metadata": {
            "tags": []
          },
          "execution_count": 35
        },
        {
          "output_type": "display_data",
          "data": {
            "image/png": "[encoded data removed]",
            "text/plain": [
              "<Figure size 1080x1080 with 2 Axes>"
            ]
          },
          "metadata": {
            "tags": [],
            "needs_background": "light"
          }
        }
      ]
    },
    {
      "cell_type": "markdown",
      "metadata": {
        "id": "P8AqGg1zr69_"
      },
      "source": [
        "Back to Data Preprocessing"
      ]
    },
    {
      "cell_type": "code",
      "metadata": {
        "id": "uqi_YdKGrG1P"
      },
      "source": [
        "# separate the data and Label\n",
        "X = wine_dataset.drop('quality',axis=1)\n",
        "\n",
        "#the reason is that you will feed the data separetley to the machine learning model\n",
        "#this  is Called Data Leakage,  we DONT want to give the machine learning model what the TRUE labels are \n",
        "#in this case it is easy to prevent data leakage, but it is an easy mistake to make"
      ],
      "execution_count": null,
      "outputs": []
    },
    {
      "cell_type": "code",
      "metadata": {
        "colab": {
          "base_uri": "https://localhost:8080/"
        },
        "id": "x510k7kjsMfZ",
        "outputId": "8e5af451-cacb-4a0a-e88c-9cea9c671989"
      },
      "source": [
        "print(X)"
      ],
      "execution_count": null,
      "outputs": [
        {
          "output_type": "stream",
          "text": [
            "      fixed.acidity  volatile.acidity  citric.acid  ...    pH  sulphates  alcohol\n",
            "0               7.0              0.27         0.36  ...  3.00       0.45      8.8\n",
            "1               6.3              0.30         0.34  ...  3.30       0.49      9.5\n",
            "3               7.2              0.23         0.32  ...  3.19       0.40      9.9\n",
            "4               7.2              0.23         0.32  ...  3.19       0.40      9.9\n",
            "5               8.1              0.28         0.40  ...  3.26       0.44     10.1\n",
            "...             ...               ...          ...  ...   ...        ...      ...\n",
            "4893            6.2              0.21         0.29  ...  3.27       0.50     11.2\n",
            "4894            6.6              0.32         0.36  ...  3.15       0.46      9.6\n",
            "4895            6.5              0.24         0.19  ...  2.99       0.46      9.4\n",
            "4896            5.5              0.29         0.30  ...  3.34       0.38     12.8\n",
            "4897            6.0              0.21         0.38  ...  3.26       0.32     11.8\n",
            "\n",
            "[4896 rows x 11 columns]\n"
          ],
          "name": "stdout"
        }
      ]
    },
    {
      "cell_type": "markdown",
      "metadata": {
        "id": "TNLpHsJ5sUnx"
      },
      "source": [
        "Label Binarizaton\n",
        "\n",
        "You want to make a cutoff if the quality is good or bad, it will be divided into two columns.\n"
      ]
    },
    {
      "cell_type": "code",
      "metadata": {
        "id": "ZO0UMUbRsNmt"
      },
      "source": [
        "Y = wine_dataset['quality'].apply(lambda y_value: 1 if y_value>=6 else 0)\n",
        "#replace the values of 6 and above with 1 and values below 6 are 0\n",
        "#since this wineries target market is actually McGill Froshies, the cutoff for what makes a good quality wine \n",
        "# is 6 , which would be the quality of one of those Laroux wines\n",
        "#lambda is useful for replacing values but it has a bunch of other uses"
      ],
      "execution_count": null,
      "outputs": []
    },
    {
      "cell_type": "code",
      "metadata": {
        "colab": {
          "base_uri": "https://localhost:8080/"
        },
        "id": "3Wp_Uzbps9nk",
        "outputId": "c9f6b626-bc0b-4e4e-ebae-24a13cc6160c"
      },
      "source": [
        "print(Y)  #ANYTHING YOU DO ALWAYS PRINT OR SHOW"
      ],
      "execution_count": null,
      "outputs": [
        {
          "output_type": "stream",
          "text": [
            "0       1\n",
            "1       1\n",
            "3       1\n",
            "4       1\n",
            "5       1\n",
            "       ..\n",
            "4893    1\n",
            "4894    0\n",
            "4895    1\n",
            "4896    1\n",
            "4897    1\n",
            "Name: quality, Length: 4896, dtype: int64\n"
          ],
          "name": "stdout"
        }
      ]
    },
    {
      "cell_type": "markdown",
      "metadata": {
        "id": "W0T7pk6WtDSR"
      },
      "source": [
        "Train & Test Split"
      ]
    },
    {
      "cell_type": "markdown",
      "metadata": {
        "id": "si9IKqDl1-aR"
      },
      "source": [
        "We are going to split our data into two parts.  The training data which we will teach our algorithim how recognize patterns amongst the dat. Since Quality is our Y value then this means the algorithim is examining how all the other features affect the Quality.\n",
        "\n",
        "We also need a Test dataset, this must be smaller than the training dataset. Usually 70/ 30 split or 80/20.  The test data is used to see how well the model is able to predict  if our wine is of high quality or not based on  \"NEW\" or \"Test\" values the algorithim hasnt seen before."
      ]
    },
    {
      "cell_type": "code",
      "metadata": {
        "id": "KXd_4XvCs-sT"
      },
      "source": [
        "X_train, X_test, Y_train, Y_test = train_test_split(X, Y, test_size=0.2, random_state=3)\n",
        "#this come from scikit learn\n",
        "# .2 represents 20% of original data to be test data, 80% will be training\n",
        "#random_state is basically used for reproducing your problem the same every time it is run. If you do not use a random_state in train_test_split, every time you make the split you might get a different set of train and test data points\n",
        "# and will not help you in debugging in case you get an issue.\n",
        "#here we will have 3 possible random states"
      ],
      "execution_count": null,
      "outputs": []
    },
    {
      "cell_type": "code",
      "metadata": {
        "colab": {
          "base_uri": "https://localhost:8080/"
        },
        "id": "qIlkPlx1ttpR",
        "outputId": "8bd78e71-86e8-4af8-cad7-61cdb4e36b7a"
      },
      "source": [
        "print(Y.shape, Y_train.shape, Y_test.shape)"
      ],
      "execution_count": null,
      "outputs": [
        {
          "output_type": "stream",
          "text": [
            "(4896,) (3916,) (980,)\n"
          ],
          "name": "stdout"
        }
      ]
    },
    {
      "cell_type": "markdown",
      "metadata": {
        "id": "m5MZuPZht60I"
      },
      "source": [
        "Model Training:\n",
        "\n",
        "\n",
        "\n",
        "Random Forest Classifier"
      ]
    },
    {
      "cell_type": "code",
      "metadata": {
        "id": "xLYtbQDht0Uq"
      },
      "source": [
        "model = RandomForestClassifier()\n",
        "#this is how you load up a model from a module ( in this case sci kit learn)"
      ],
      "execution_count": null,
      "outputs": []
    },
    {
      "cell_type": "markdown",
      "metadata": {
        "id": "JKJcoFLP5E2v"
      },
      "source": [
        "Decision Trees\n",
        "\n",
        "https://cdn.analyticsvidhya.com/wp-content/uploads/2020/05/rfc_vs_dt11.png"
      ]
    },
    {
      "cell_type": "markdown",
      "metadata": {
        "id": "W-oRXcT55U-a"
      },
      "source": [
        "\n",
        "So we are using a decision tree, or specifically a random forest model to help us deterimine if a wine is going to be good or bad.\n",
        "\n",
        "\n",
        "In our wine example lets say.  The top node checks pH values less than 3.2  the wine quality will be bad. So if value is greater than 3.2 then the quality will be good. \n",
        "\n",
        "A random forest has multiple decision trees.  We have multiple decision trees in this example because we have multiple features all playing soem sort of effect in deciding if the final quality of the wine will be good or bad.  This can be done with a majority voting (example 5 good qualites and 2 bad qualities  ) or with avergaing (perhaps we went back to the original scale and any  value above 6 was considered good).\n",
        "\n",
        "Random forest is essentially many decision trees put together.\n",
        "\n",
        "The reason for using a random forest is because decision trees overfit. If you just train a decision tree it will really like your data and over fit.  When you take a vote of a lot of data trees you get something useable.\n"
      ]
    },
    {
      "cell_type": "markdown",
      "metadata": {
        "id": "odvVxHBA4k36"
      },
      "source": [
        "https://cdn.analyticsvidhya.com/wp-content/uploads/2020/02/rfc_vs_dt1.png"
      ]
    },
    {
      "cell_type": "code",
      "metadata": {
        "colab": {
          "base_uri": "https://localhost:8080/"
        },
        "id": "doympXrQu__E",
        "outputId": "defb6925-cb21-4aaa-a024-d359a7fecfe8"
      },
      "source": [
        "model.fit(X_train, Y_train)\n",
        "#this fits the data points to our random forest classifier\n",
        "\n",
        "#this is how we train our model using this fit function\n",
        "\n",
        "#cool to look into sci kit learn module,  find out important information,\n",
        "#one exaple n_estimators in the basic random forest function tells you there is 100 decision trees"
      ],
      "execution_count": null,
      "outputs": [
        {
          "output_type": "execute_result",
          "data": {
            "text/plain": [
              "RandomForestClassifier(bootstrap=True, ccp_alpha=0.0, class_weight=None,\n",
              "                       criterion='gini', max_depth=None, max_features='auto',\n",
              "                       max_leaf_nodes=None, max_samples=None,\n",
              "                       min_impurity_decrease=0.0, min_impurity_split=None,\n",
              "                       min_samples_leaf=1, min_samples_split=2,\n",
              "                       min_weight_fraction_leaf=0.0, n_estimators=100,\n",
              "                       n_jobs=None, oob_score=False, random_state=None,\n",
              "                       verbose=0, warm_start=False)"
            ]
          },
          "metadata": {
            "tags": []
          },
          "execution_count": 44
        }
      ]
    },
    {
      "cell_type": "markdown",
      "metadata": {
        "id": "m1lChonUvS1d"
      },
      "source": [
        "Model Evaluation"
      ]
    },
    {
      "cell_type": "markdown",
      "metadata": {
        "id": "r-I7bqyLvVJ_"
      },
      "source": [
        "Accuracy Score"
      ]
    },
    {
      "cell_type": "code",
      "metadata": {
        "id": "NsuQMf9cvKmK"
      },
      "source": [
        "# accuracy on test data\n",
        "y_predicted = model.predict(X_test) \n",
        "# this model.predict will predict the label value for X_test\n",
        "\n",
        "# Highlight over the predict function to see what it does\n",
        "\n",
        "#here we are prediciting if the new data is going to be goood or bad\n",
        "test_data_accuracy = accuracy_score(Y_test, y_predicted)\n",
        "#now we get the accuracy by comparing what we predicited ( Y_predicted from the training) VS.\n",
        "#Vs. what the actual labels are ,  the Y_test\n",
        "\n",
        "#this gives us a physical number to help us understand how well are model did, and how good it is at prediciting something"
      ],
      "execution_count": null,
      "outputs": []
    },
    {
      "cell_type": "code",
      "metadata": {
        "colab": {
          "base_uri": "https://localhost:8080/"
        },
        "id": "SkyRHd1Dv5gU",
        "outputId": "bc0fce61-184b-4a49-93ea-9cd806f03696"
      },
      "source": [
        "print('Accuracy : ', test_data_accuracy)\n",
        "\n",
        "#Question what do you think about this prediction level ?\n",
        "\n"
      ],
      "execution_count": null,
      "outputs": [
        {
          "output_type": "stream",
          "text": [
            "Accuracy :  0.8357142857142857\n"
          ],
          "name": "stdout"
        }
      ]
    },
    {
      "cell_type": "markdown",
      "metadata": {
        "id": "kbptIZOLwMwj"
      },
      "source": [
        "Building a Predictive System"
      ]
    },
    {
      "cell_type": "markdown",
      "metadata": {
        "id": "h3-3YeWe9MM6"
      },
      "source": [
        "Give in all the qualities of a wine and return if the wine meeets the rquirements of the Winery.\n",
        "\n",
        "Remember we can always go back and change our original cutoff.   For example at a fancier winery we might want to have a higher cutoff."
      ]
    },
    {
      "cell_type": "code",
      "metadata": {
        "colab": {
          "base_uri": "https://localhost:8080/"
        },
        "id": "1_RRHB94v91w",
        "outputId": "2b722886-66ae-494f-8266-bee3d8d94af0"
      },
      "source": [
        "input_data = (7.5,0.5,0.36,6.1,0.071,17.0,102.0,0.9978,3.35,0.8,10.5)\n",
        "\n",
        "# changing the input data to a numpy array\n",
        "input_data_as_numpy_array = np.asarray(input_data)\n",
        "# we need to have everything in the form of a numpy array for our model\n",
        "\n",
        "\n",
        "# reshape the data as we are predicting the label for only one instance\n",
        "input_data_reshaped = input_data_as_numpy_array.reshape(1,-1)\n",
        "#we need to tell the model that its only predicting for 1 value\n",
        "#otherwise will be confused looking for lots of values\n",
        "\n",
        "\n",
        "print(input_data_reshaped)  #[[]]  numpy array format\n",
        "\n",
        "prediction = model.predict(input_data_reshaped) #the \n",
        "print(prediction)\n",
        "\n",
        "if (prediction[0]==1):\n",
        "  print('Good Quality Wine')\n",
        "else:\n",
        "  print('Bad Quality Wine')"
      ],
      "execution_count": null,
      "outputs": [
        {
          "output_type": "stream",
          "text": [
            "[[7.500e+00 5.000e-01 3.600e-01 6.100e+00 7.100e-02 1.700e+01 1.020e+02\n",
            "  9.978e-01 3.350e+00 8.000e-01 1.050e+01]]\n",
            "[1]\n",
            "Good Quality Wine\n"
          ],
          "name": "stdout"
        }
      ]
    },
    {
      "cell_type": "code",
      "metadata": {
        "colab": {
          "base_uri": "https://localhost:8080/"
        },
        "id": "dBQRLCdtvWll",
        "outputId": "643e2b3a-12d4-4cd3-85d3-69072e20773c"
      },
      "source": [
        "input_data = (\n",
        "6.6 ,\t0.695\t , 0,\t2.1 ,\t0.075\t, 12, \t56, \t0.9968, \t3.49, \t0.67, \t9.2,  )\n",
        "\n",
        "# changing the input data to a numpy array\n",
        "input_data_as_numpy_array = np.asarray(input_data)\n",
        "\n",
        "# reshape the data as we are predicting the label for only one instance\n",
        "input_data_reshaped = input_data_as_numpy_array.reshape(1,-1)\n",
        "\n",
        "prediction = model.predict(input_data_reshaped)\n",
        "print(prediction)\n",
        "\n",
        "if (prediction[0]==1):  # if the predicted value at the index [0] is equal to one then print good qquality \n",
        "  print('Good Quality Wine')\n",
        "else:\n",
        "  print('Bad Quality Wine')"
      ],
      "execution_count": null,
      "outputs": [
        {
          "output_type": "stream",
          "text": [
            "[0]\n",
            "Bad Quality Wine\n"
          ],
          "name": "stdout"
        }
      ]
    },
    {
      "cell_type": "markdown",
      "metadata": {
        "id": "h8nkQFl9RY4I"
      },
      "source": [
        "Useful Links\n",
        "\n",
        "\n",
        "https://machinelearningmastery.com/types-of-learning-in-machine-learning/\n",
        "\n",
        "Link for dataset http://www3.dsi.uminho.pt/pcortez/wine/\n",
        "Link for cleaned up dataset. https://www.kaggle.com/danielpanizzo/wine-quality\n",
        "\n",
        "https://developers.google.com/machine-learning/crash-course/training-and-test-sets/splitting-data\n",
        "\n",
        "https://towardsdatascience.com/how-to-check-for-missing-values-in-pandas-d2749e45a345\n",
        "\n",
        "https://www.analyticsvidhya.com/blog/2020/05/decision-tree-vs-random-forest-algorithm/\n",
        "https://towardsdatascience.com/"
      ]
    },
    {
      "cell_type": "markdown",
      "metadata": {
        "id": "QwW_1sN2iZEy"
      },
      "source": [
        ""
      ]
    }
  ]
}